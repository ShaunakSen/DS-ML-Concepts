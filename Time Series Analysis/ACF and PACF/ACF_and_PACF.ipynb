{
 "cells": [
  {
   "cell_type": "markdown",
   "metadata": {},
   "source": [
    "## Understanding ACF and PACF\n",
    "\n",
    "> https://www.youtube.com/watch?v=DeORzP0go5I&t=18s\n",
    "> https://www.kaggle.com/code/iamleonie/time-series-interpreting-acf-and-pacf/notebook\n",
    "---"
   ]
  },
  {
   "cell_type": "markdown",
   "metadata": {},
   "source": [
    "We want to predict the avg price of salmon in the current month\n",
    "\n",
    "$s_t$: avg price of salmon this month (march)\n",
    "\n",
    "$s_{t-1}$: avg price of salmon prev month (feb)\n",
    "\n",
    "$s_{t-2}$: avg price of salmon 2 months back (jan)\n",
    "\n",
    "...\n",
    "\n",
    "Key idea in TS:\n",
    "\n",
    "Price of salmon this month will depend on price prev month, 2 mos back, 3 mos back and so on...\n",
    "\n",
    "### ACF\n",
    "\n",
    "![](https://imgur.com/FhLPpKc.png)\n",
    "\n",
    "\n",
    "- price of salmon in J affects F\n",
    "- price of salmon in F affects M\n",
    "- price of salmon in J has an indirect effect on price in M through F\n",
    "- price of salmon in J has a direct effect on price in M\n",
    "    - maybe there is a food festival every 2 mos\n",
    "\n",
    "__ACF includes all direct + indirect effects through all indtermediary time periods__\n",
    "\n",
    "To find the correlation of price in current month to 2 mos back\n",
    "\n",
    "we line up all data points (jan - mar), (feb - apr), ... and compute correlation (here pearsons)\n",
    "\n",
    "\n",
    "![](https://imgur.com/2LMqVYm.png)"
   ]
  },
  {
   "cell_type": "markdown",
   "metadata": {},
   "source": [
    "### PACF\n",
    "\n",
    "We only care about __direct effect__ so s_(t-2) ---> s_t\n",
    "\n",
    "One use case of using PACF is if we want to find out if the price of salmon 2 mos ago is a __good predictor__\n",
    "for the price this month\n",
    "\n",
    "- ACF is high might not be a sufficient eveidence as the high value might be because of indirect effects and not the direct effect\n",
    "\n",
    "\n",
    "#### Computing PACF\n",
    "\n",
    "\n",
    "Lets say we want to compute how much effect s_(t-2) has on s_t so k=2\n",
    "\n",
    "- the first step is to write a regressive model\n",
    "\n",
    "![](https://imgur.com/d8YQ3wb.png)\n",
    "\n",
    "$\\phi_{22}$ term will give us the __direct effect s_(t-2) has on s_t__ as the indirect effects are captured by the other coeffs\n",
    "\n",
    "$\\phi_{22}$  is the PACF for k=2\n",
    "\n",
    "\n",
    "#### Interpret PACF\n",
    "\n",
    "![](https://imgur.com/ZXT9p6g.png)\n",
    "\n",
    "- we find PACF for k=1,2,3...\n",
    "- red bars are error bands\n",
    "    - consider anything within error bands are same as 0\n",
    "    - 6,7 PACF have 0 PACF acc to error bands\n",
    "\n",
    "So a good model might look like:\n",
    "\n",
    "![](https://imgur.com/SyMXDKf.png)\n",
    "\n",
    "> this type of model where we predict something based on past values of the thing is called an __Autoregressive Model__\n",
    "\n",
    "\n",
    "\n",
    "\n",
    "\n",
    "\n",
    "\n",
    "\n",
    "\n",
    "\n",
    "\n"
   ]
  },
  {
   "cell_type": "code",
   "execution_count": null,
   "metadata": {},
   "outputs": [],
   "source": [
    "##"
   ]
  }
 ],
 "metadata": {
  "language_info": {
   "name": "python"
  },
  "orig_nbformat": 4
 },
 "nbformat": 4,
 "nbformat_minor": 2
}
