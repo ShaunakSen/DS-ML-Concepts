{
 "cells": [
  {
   "cell_type": "markdown",
   "metadata": {},
   "source": [
    "## ML - USU\n",
    "\n",
    "> Notes on course by Predram Jahangiry: https://www.youtube.com/playlist?list=PL2GWo47BFyUNeLIH127rVovSqKFm1rk07\n",
    "\n",
    "---\n"
   ]
  },
  {
   "cell_type": "markdown",
   "metadata": {},
   "source": [
    "## Module 3- Understanding Linear Regression Through an Econometrics Lens\n",
    "\n",
    "### The Gauss Markov assumptions\n",
    "\n",
    "\n",
    "1. Assumption 1: Linearity in parameters/corefficients\n",
    "\n",
    "![](https://pasteboard.co/tWq7rOHqooYT.png)\n",
    "\n",
    "2. Assumption 2: Random Sampling\n",
    "\n",
    "\n"
   ]
  },
  {
   "cell_type": "code",
   "execution_count": null,
   "metadata": {},
   "outputs": [],
   "source": []
  }
 ],
 "metadata": {
  "language_info": {
   "name": "python"
  }
 },
 "nbformat": 4,
 "nbformat_minor": 2
}
